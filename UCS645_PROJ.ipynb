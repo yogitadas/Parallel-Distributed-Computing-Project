{
  "nbformat": 4,
  "nbformat_minor": 0,
  "metadata": {
    "colab": {
      "provenance": []
    },
    "kernelspec": {
      "name": "python3",
      "display_name": "Python 3"
    },
    "language_info": {
      "name": "python"
    }
  },
  "cells": [
    {
      "cell_type": "code",
      "execution_count": null,
      "metadata": {
        "colab": {
          "base_uri": "https://localhost:8080/"
        },
        "id": "hiVqmCuwxDzL",
        "outputId": "21a12088-f80d-4f93-dbf0-c8ae8336fb44"
      },
      "outputs": [
        {
          "output_type": "stream",
          "name": "stdout",
          "text": [
            "/bin/bash: line 1: nvidia-smi: command not found\n",
            "nvcc: NVIDIA (R) Cuda compiler driver\n",
            "Copyright (c) 2005-2024 NVIDIA Corporation\n",
            "Built on Thu_Jun__6_02:18:23_PDT_2024\n",
            "Cuda compilation tools, release 12.5, V12.5.82\n",
            "Build cuda_12.5.r12.5/compiler.34385749_0\n"
          ]
        }
      ],
      "source": [
        "!nvidia-smi  # Check GPU information\n",
        "!nvcc --version  # Check CUDA version"
      ]
    },
    {
      "cell_type": "code",
      "source": [
        "%%writefile bfs.cu\n",
        "#include <stdio.h>\n",
        "#include <stdlib.h>\n",
        "#include <vector>\n",
        "#include <queue>\n",
        "\n",
        "#define THREADS_PER_BLOCK 256\n",
        "\n",
        "__global__ void bfs_kernel(int* edges, int* edge_offsets, int* visited, int* levels, int node_count, int current_level) {\n",
        "    int idx = blockIdx.x * blockDim.x + threadIdx.x;\n",
        "    if (idx < node_count && visited[idx] == 1 && levels[idx] == current_level) {\n",
        "        int start = edge_offsets[idx];\n",
        "        int end = edge_offsets[idx + 1];\n",
        "\n",
        "        for (int i = start; i < end; i++) {\n",
        "            int neighbor = edges[i];\n",
        "            if (visited[neighbor] == 0) {\n",
        "                visited[neighbor] = 1;\n",
        "                levels[neighbor] = current_level + 1;\n",
        "            }\n",
        "        }\n",
        "    }\n",
        "}\n",
        "\n",
        "void bfs_cuda(const std::vector<std::vector<int>>& graph, int start_node) {\n",
        "    int node_count = graph.size();\n",
        "\n",
        "    // Convert to CSR format\n",
        "    std::vector<int> edges;\n",
        "    std::vector<int> edge_offsets(node_count + 1);\n",
        "\n",
        "    edge_offsets[0] = 0;\n",
        "    for (int i = 0; i < node_count; i++) {\n",
        "        edges.insert(edges.end(), graph[i].begin(), graph[i].end());\n",
        "        edge_offsets[i + 1] = edge_offsets[i] + graph[i].size();\n",
        "    }\n",
        "\n",
        "    // Device pointers\n",
        "    int *d_edges, *d_edge_offsets, *d_visited, *d_levels;\n",
        "\n",
        "    // Allocate device memory\n",
        "    cudaMalloc(&d_edges, edges.size() * sizeof(int));\n",
        "    cudaMalloc(&d_edge_offsets, edge_offsets.size() * sizeof(int));\n",
        "    cudaMalloc(&d_visited, node_count * sizeof(int));\n",
        "    cudaMalloc(&d_levels, node_count * sizeof(int));\n",
        "\n",
        "    // Copy data to device\n",
        "    cudaMemcpy(d_edges, edges.data(), edges.size() * sizeof(int), cudaMemcpyHostToDevice);\n",
        "    cudaMemcpy(d_edge_offsets, edge_offsets.data(), edge_offsets.size() * sizeof(int), cudaMemcpyHostToDevice);\n",
        "\n",
        "    // Initialize visited and levels\n",
        "    std::vector<int> visited(node_count, 0);\n",
        "    std::vector<int> levels(node_count, -1);\n",
        "    visited[start_node] = 1;\n",
        "    levels[start_node] = 0;\n",
        "\n",
        "    cudaMemcpy(d_visited, visited.data(), node_count * sizeof(int), cudaMemcpyHostToDevice);\n",
        "    cudaMemcpy(d_levels, levels.data(), node_count * sizeof(int), cudaMemcpyHostToDevice);\n",
        "\n",
        "    // Run BFS\n",
        "    int current_level = 0;\n",
        "    bool changed;\n",
        "\n",
        "    do {\n",
        "        changed = false;\n",
        "\n",
        "        // Launch kernel\n",
        "        int blocks = (node_count + THREADS_PER_BLOCK - 1) / THREADS_PER_BLOCK;\n",
        "        bfs_kernel<<<blocks, THREADS_PER_BLOCK>>>(d_edges, d_edge_offsets, d_visited, d_levels, node_count, current_level);\n",
        "        cudaDeviceSynchronize();\n",
        "\n",
        "        // Check if we need another iteration\n",
        "        cudaMemcpy(visited.data(), d_visited, node_count * sizeof(int), cudaMemcpyDeviceToHost);\n",
        "        for (int i = 0; i < node_count; i++) {\n",
        "            if (levels[i] == -1 && visited[i] == 1) {\n",
        "                levels[i] = current_level + 1;\n",
        "                changed = true;\n",
        "            }\n",
        "        }\n",
        "\n",
        "        if (changed) {\n",
        "            cudaMemcpy(d_levels, levels.data(), node_count * sizeof(int), cudaMemcpyHostToDevice);\n",
        "            current_level++;\n",
        "        }\n",
        "    } while (changed);\n",
        "\n",
        "    // Copy results back\n",
        "    cudaMemcpy(levels.data(), d_levels, node_count * sizeof(int), cudaMemcpyDeviceToHost);\n",
        "\n",
        "    // Print results\n",
        "    printf(\"BFS Results:\\n\");\n",
        "    for (int i = 0; i < node_count; i++) {\n",
        "        printf(\"Node %d: Level %d\\n\", i, levels[i]);\n",
        "    }\n",
        "\n",
        "    // Cleanup\n",
        "    cudaFree(d_edges);\n",
        "    cudaFree(d_edge_offsets);\n",
        "    cudaFree(d_visited);\n",
        "    cudaFree(d_levels);\n",
        "}\n",
        "\n",
        "int main() {\n",
        "    // Example graph (adjacency list)\n",
        "    std::vector<std::vector<int>> graph = {\n",
        "        {1, 2},    // Node 0\n",
        "        {0, 3},     // Node 1\n",
        "        {0, 3},     // Node 2\n",
        "        {1, 2, 4},  // Node 3\n",
        "        {3}         // Node 4\n",
        "    };\n",
        "\n",
        "    // Run BFS from node 0\n",
        "    bfs_cuda(graph, 0);\n",
        "\n",
        "    return 0;\n",
        "}"
      ],
      "metadata": {
        "colab": {
          "base_uri": "https://localhost:8080/"
        },
        "id": "QC1ebT0WxXiz",
        "outputId": "02aacd7d-9ee2-4b08-c6ad-6af42fb6c680"
      },
      "execution_count": null,
      "outputs": [
        {
          "output_type": "stream",
          "name": "stdout",
          "text": [
            "Writing bfs.cu\n"
          ]
        }
      ]
    },
    {
      "cell_type": "code",
      "source": [
        "!nvcc bfs.cu -o bfs\n",
        "!./bfs"
      ],
      "metadata": {
        "colab": {
          "base_uri": "https://localhost:8080/"
        },
        "id": "_sJoYotHxhi9",
        "outputId": "c321820e-a401-4747-fba6-79296dc1693b"
      },
      "execution_count": null,
      "outputs": [
        {
          "output_type": "stream",
          "name": "stdout",
          "text": [
            "BFS Results:\n",
            "Node 0: Level 0\n",
            "Node 1: Level -1\n",
            "Node 2: Level -1\n",
            "Node 3: Level -1\n",
            "Node 4: Level -1\n"
          ]
        }
      ]
    },
    {
      "cell_type": "code",
      "source": [],
      "metadata": {
        "id": "NOdwobAZxtth"
      },
      "execution_count": null,
      "outputs": []
    }
  ]
}